{
 "cells": [
  {
   "cell_type": "markdown",
   "id": "2488bf0f",
   "metadata": {},
   "source": [
    "<div style=\"text-align: center;\">\n",
    "    <h2>Modelado - XGBoost</h2>\n",
    "</div>"
   ]
  },
  {
   "cell_type": "markdown",
   "id": "27011068",
   "metadata": {},
   "source": [
    "## Índice\n",
    "\n",
    "- [1 - Preparación de Datos](#preparaciondedatos)\n",
    "- [1.1 - Instalación Librerias](#instalacionlibrerias)\n",
    "- [1.2 - Carga de Datos](#cargadedatos)\n",
    "- [2 - Transformación de Datos](#transformaciondedatos)\n",
    "- [3 - Modelado - XGBoost](#xgboost)"
   ]
  },
  {
   "cell_type": "markdown",
   "id": "fd748c76",
   "metadata": {},
   "source": [
    "### 1 - Preparación de Datos <a name=\"preparaciondedatos\"></a>"
   ]
  },
  {
   "cell_type": "markdown",
   "id": "00df3f19",
   "metadata": {},
   "source": [
    "#### 1.1 - Instalación Librerias <a name=\"instalacionlibrerias\"></a>"
   ]
  },
  {
   "cell_type": "code",
   "execution_count": 4,
   "id": "a537410d",
   "metadata": {},
   "outputs": [
    {
     "name": "stdout",
     "output_type": "stream",
     "text": [
      "Requirement already satisfied: xgboost in /home/ec2-user/anaconda3/envs/python3/lib/python3.10/site-packages (2.1.1)\n",
      "Requirement already satisfied: numpy in /home/ec2-user/anaconda3/envs/python3/lib/python3.10/site-packages (from xgboost) (1.26.4)\n",
      "Requirement already satisfied: scipy in /home/ec2-user/anaconda3/envs/python3/lib/python3.10/site-packages (from xgboost) (1.14.0)\n",
      "Note: you may need to restart the kernel to use updated packages.\n"
     ]
    }
   ],
   "source": [
    "pip install xgboost"
   ]
  },
  {
   "cell_type": "code",
   "execution_count": 3,
   "id": "89f3c6f7",
   "metadata": {},
   "outputs": [
    {
     "name": "stdout",
     "output_type": "stream",
     "text": [
      "Requirement already satisfied: optuna in /home/ec2-user/anaconda3/envs/python3/lib/python3.10/site-packages (4.0.0)\n",
      "Requirement already satisfied: alembic>=1.5.0 in /home/ec2-user/anaconda3/envs/python3/lib/python3.10/site-packages (from optuna) (1.13.3)\n",
      "Requirement already satisfied: colorlog in /home/ec2-user/anaconda3/envs/python3/lib/python3.10/site-packages (from optuna) (6.8.2)\n",
      "Requirement already satisfied: numpy in /home/ec2-user/anaconda3/envs/python3/lib/python3.10/site-packages (from optuna) (1.26.4)\n",
      "Requirement already satisfied: packaging>=20.0 in /home/ec2-user/anaconda3/envs/python3/lib/python3.10/site-packages (from optuna) (21.3)\n",
      "Requirement already satisfied: sqlalchemy>=1.3.0 in /home/ec2-user/anaconda3/envs/python3/lib/python3.10/site-packages (from optuna) (2.0.31)\n",
      "Requirement already satisfied: tqdm in /home/ec2-user/anaconda3/envs/python3/lib/python3.10/site-packages (from optuna) (4.66.4)\n",
      "Requirement already satisfied: PyYAML in /home/ec2-user/anaconda3/envs/python3/lib/python3.10/site-packages (from optuna) (6.0.1)\n",
      "Requirement already satisfied: Mako in /home/ec2-user/anaconda3/envs/python3/lib/python3.10/site-packages (from alembic>=1.5.0->optuna) (1.3.5)\n",
      "Requirement already satisfied: typing-extensions>=4 in /home/ec2-user/anaconda3/envs/python3/lib/python3.10/site-packages (from alembic>=1.5.0->optuna) (4.12.2)\n",
      "Requirement already satisfied: pyparsing!=3.0.5,>=2.0.2 in /home/ec2-user/anaconda3/envs/python3/lib/python3.10/site-packages (from packaging>=20.0->optuna) (3.1.2)\n",
      "Requirement already satisfied: greenlet!=0.4.17 in /home/ec2-user/anaconda3/envs/python3/lib/python3.10/site-packages (from sqlalchemy>=1.3.0->optuna) (3.0.3)\n",
      "Requirement already satisfied: MarkupSafe>=0.9.2 in /home/ec2-user/anaconda3/envs/python3/lib/python3.10/site-packages (from Mako->alembic>=1.5.0->optuna) (2.1.5)\n",
      "Note: you may need to restart the kernel to use updated packages.\n"
     ]
    }
   ],
   "source": [
    "pip install optuna"
   ]
  },
  {
   "cell_type": "markdown",
   "id": "46332d77",
   "metadata": {},
   "source": [
    "#### 1.2 - Importar Librerias <a name=\"importarlibrerias\"></a>"
   ]
  },
  {
   "cell_type": "code",
   "execution_count": 5,
   "id": "0315858a",
   "metadata": {
    "scrolled": false
   },
   "outputs": [
    {
     "name": "stderr",
     "output_type": "stream",
     "text": [
      "/home/ec2-user/anaconda3/envs/python3/lib/python3.10/site-packages/xgboost/core.py:265: FutureWarning: Your system has an old version of glibc (< 2.28). We will stop supporting Linux distros with glibc older than 2.28 after **May 31, 2025**. Please upgrade to a recent Linux distro (with glibc 2.28+) to use future versions of XGBoost.\n",
      "Note: You have installed the 'manylinux2014' variant of XGBoost. Certain features such as GPU algorithms or federated learning are not available. To use these features, please upgrade to a recent Linux distro with glibc 2.28+, and install the 'manylinux_2_28' variant.\n",
      "  warnings.warn(\n"
     ]
    }
   ],
   "source": [
    "import pandas as pd\n",
    "import numpy as np\n",
    "import matplotlib.pyplot as plt\n",
    "import seaborn as sns\n",
    "\n",
    "from sklearn.preprocessing import LabelEncoder, MinMaxScaler, StandardScaler\n",
    "from sklearn.model_selection import train_test_split, GridSearchCV, KFold\n",
    "from sklearn.tree import DecisionTreeRegressor\n",
    "from sklearn.metrics import mean_squared_error, r2_score\n",
    "from lightgbm import LGBMRegressor\n",
    "from catboost import CatBoostRegressor\n",
    "from xgboost import XGBRegressor\n",
    "import xgboost as xgb\n",
    "import lightgbm as lgb\n",
    "import optuna\n",
    "import warnings\n",
    "import joblib\n",
    "from optuna.samplers import TPESampler\n",
    "\n",
    "warnings.filterwarnings('ignore')\n"
   ]
  },
  {
   "cell_type": "code",
   "execution_count": 6,
   "id": "31194007",
   "metadata": {},
   "outputs": [],
   "source": [
    "# Se define función que cuenta la cantidad de valores nulos en cada columna de un DataFrame y se calcula\n",
    "# el porcentaje de valores nulos por columna.\n",
    "\n",
    "def contar_valores_nulos_con_porcentaje(dataframe):\n",
    "\n",
    "    nulos_por_columna = dataframe.isnull().sum()\n",
    "    porcentaje_nulos_por_columna = (nulos_por_columna / len(dataframe)) * 100\n",
    "\n",
    "    resultados = pd.DataFrame({\n",
    "        'Cantidad de Nulos': nulos_por_columna,\n",
    "        'Porcentaje de Nulos (%)': porcentaje_nulos_por_columna\n",
    "    })\n",
    "\n",
    "    return resultados\n",
    "\n",
    "#Se define función que elimina los valores atípicos de una columna específica en un DataFrame.\n",
    "#La misma utiliza el método de rango intercuartílico para identificar valores atípicos, que son aquellos puntos de datos\n",
    "#que caen fuera del rango definido por el primer cuartil (Q1) y el tercer cuartil (Q3).\n",
    "\n",
    "def remove_outliers(df, column_name):\n",
    "    Q1 = df[column_name].quantile(0.25)\n",
    "    Q3 = df[column_name].quantile(0.75)\n",
    "    IQR = Q3 - Q1\n",
    "\n",
    "    lower_bound = Q1 - 1.5 * IQR\n",
    "    upper_bound = Q3 + 1.5 * IQR\n",
    "\n",
    "    df_filtered = df[(df[column_name] >= lower_bound) & (df[column_name] <= upper_bound)]\n",
    "\n",
    "    return df_filtered\n",
    "\n",
    "#Se define función que elimina iterativamente los valores atípicos de una columna específica en un DataFrame hasta que\n",
    "#no se encuentren más valores atípicos según el criterio del rango intercuartílico definido en la función \"remove_outliers\".\n",
    "\n",
    "def remove_outliers_iteratively(df, column_name):\n",
    "    df_clean = df.copy()\n",
    "    while True:\n",
    "        initial_len = len(df_clean)\n",
    "        df_clean = remove_outliers(df_clean, column_name)\n",
    "        final_len = len(df_clean)\n",
    "        if initial_len == final_len:\n",
    "            break\n",
    "    return df_clean"
   ]
  },
  {
   "cell_type": "code",
   "execution_count": 7,
   "id": "391ae744",
   "metadata": {},
   "outputs": [],
   "source": [
    "def count_outliers(df, column):\n",
    "    \"\"\"\n",
    "    Cuenta el número de valores atípicos en una columna específica de un DataFrame.\n",
    "\n",
    "    Args:\n",
    "    df (pandas.DataFrame): El DataFrame que contiene los datos.\n",
    "    column (str): El nombre de la columna en la que se contarán los valores atípicos.\n",
    "\n",
    "    Returns:\n",
    "    int: El número de valores atípicos en la columna especificada.\n",
    "    \"\"\"\n",
    "    # Calcular Q1 (primer cuartil), Q3 (tercer cuartil) y el IQR (rango intercuartílico)\n",
    "    Q1 = df[column].quantile(0.25)\n",
    "    Q3 = df[column].quantile(0.75)\n",
    "    IQR = Q3 - Q1\n",
    "\n",
    "    # Definir los límites para los valores atípicos\n",
    "    lower_bound = Q1 - 1.5 * IQR\n",
    "    upper_bound = Q3 + 1.5 * IQR\n",
    "\n",
    "    # Contar los valores atípicos\n",
    "    outliers = df[(df[column] < lower_bound) | (df[column] > upper_bound)]\n",
    "    num_outliers = outliers.shape[0]\n",
    "\n",
    "    return num_outliers"
   ]
  },
  {
   "cell_type": "markdown",
   "id": "f511055f",
   "metadata": {},
   "source": [
    "#### 1.3 - Carga de Datos <a name=\"cargadedatos\"></a>"
   ]
  },
  {
   "cell_type": "code",
   "execution_count": 8,
   "id": "d499aabe",
   "metadata": {},
   "outputs": [],
   "source": [
    "train_df = pd.read_csv('train.csv')  \n",
    "test_df = pd.read_csv('test.csv')  \n",
    "sample_submission = pd.read_csv('sample_submission.csv')"
   ]
  },
  {
   "cell_type": "code",
   "execution_count": 9,
   "id": "1aaa1582",
   "metadata": {},
   "outputs": [
    {
     "data": {
      "text/html": [
       "<div>\n",
       "<style scoped>\n",
       "    .dataframe tbody tr th:only-of-type {\n",
       "        vertical-align: middle;\n",
       "    }\n",
       "\n",
       "    .dataframe tbody tr th {\n",
       "        vertical-align: top;\n",
       "    }\n",
       "\n",
       "    .dataframe thead th {\n",
       "        text-align: right;\n",
       "    }\n",
       "</style>\n",
       "<table border=\"1\" class=\"dataframe\">\n",
       "  <thead>\n",
       "    <tr style=\"text-align: right;\">\n",
       "      <th></th>\n",
       "      <th>id</th>\n",
       "      <th>brand</th>\n",
       "      <th>model</th>\n",
       "      <th>model_year</th>\n",
       "      <th>milage</th>\n",
       "      <th>fuel_type</th>\n",
       "      <th>engine</th>\n",
       "      <th>transmission</th>\n",
       "      <th>ext_col</th>\n",
       "      <th>int_col</th>\n",
       "      <th>accident</th>\n",
       "      <th>clean_title</th>\n",
       "      <th>price</th>\n",
       "    </tr>\n",
       "  </thead>\n",
       "  <tbody>\n",
       "    <tr>\n",
       "      <th>0</th>\n",
       "      <td>0</td>\n",
       "      <td>MINI</td>\n",
       "      <td>Cooper S Base</td>\n",
       "      <td>2007</td>\n",
       "      <td>213000</td>\n",
       "      <td>Gasoline</td>\n",
       "      <td>172.0HP 1.6L 4 Cylinder Engine Gasoline Fuel</td>\n",
       "      <td>A/T</td>\n",
       "      <td>Yellow</td>\n",
       "      <td>Gray</td>\n",
       "      <td>None reported</td>\n",
       "      <td>Yes</td>\n",
       "      <td>4200</td>\n",
       "    </tr>\n",
       "    <tr>\n",
       "      <th>1</th>\n",
       "      <td>1</td>\n",
       "      <td>Lincoln</td>\n",
       "      <td>LS V8</td>\n",
       "      <td>2002</td>\n",
       "      <td>143250</td>\n",
       "      <td>Gasoline</td>\n",
       "      <td>252.0HP 3.9L 8 Cylinder Engine Gasoline Fuel</td>\n",
       "      <td>A/T</td>\n",
       "      <td>Silver</td>\n",
       "      <td>Beige</td>\n",
       "      <td>At least 1 accident or damage reported</td>\n",
       "      <td>Yes</td>\n",
       "      <td>4999</td>\n",
       "    </tr>\n",
       "    <tr>\n",
       "      <th>2</th>\n",
       "      <td>2</td>\n",
       "      <td>Chevrolet</td>\n",
       "      <td>Silverado 2500 LT</td>\n",
       "      <td>2002</td>\n",
       "      <td>136731</td>\n",
       "      <td>E85 Flex Fuel</td>\n",
       "      <td>320.0HP 5.3L 8 Cylinder Engine Flex Fuel Capab...</td>\n",
       "      <td>A/T</td>\n",
       "      <td>Blue</td>\n",
       "      <td>Gray</td>\n",
       "      <td>None reported</td>\n",
       "      <td>Yes</td>\n",
       "      <td>13900</td>\n",
       "    </tr>\n",
       "    <tr>\n",
       "      <th>3</th>\n",
       "      <td>3</td>\n",
       "      <td>Genesis</td>\n",
       "      <td>G90 5.0 Ultimate</td>\n",
       "      <td>2017</td>\n",
       "      <td>19500</td>\n",
       "      <td>Gasoline</td>\n",
       "      <td>420.0HP 5.0L 8 Cylinder Engine Gasoline Fuel</td>\n",
       "      <td>Transmission w/Dual Shift Mode</td>\n",
       "      <td>Black</td>\n",
       "      <td>Black</td>\n",
       "      <td>None reported</td>\n",
       "      <td>Yes</td>\n",
       "      <td>45000</td>\n",
       "    </tr>\n",
       "    <tr>\n",
       "      <th>4</th>\n",
       "      <td>4</td>\n",
       "      <td>Mercedes-Benz</td>\n",
       "      <td>Metris Base</td>\n",
       "      <td>2021</td>\n",
       "      <td>7388</td>\n",
       "      <td>Gasoline</td>\n",
       "      <td>208.0HP 2.0L 4 Cylinder Engine Gasoline Fuel</td>\n",
       "      <td>7-Speed A/T</td>\n",
       "      <td>Black</td>\n",
       "      <td>Beige</td>\n",
       "      <td>None reported</td>\n",
       "      <td>Yes</td>\n",
       "      <td>97500</td>\n",
       "    </tr>\n",
       "  </tbody>\n",
       "</table>\n",
       "</div>"
      ],
      "text/plain": [
       "   id          brand              model  model_year  milage      fuel_type  \\\n",
       "0   0           MINI      Cooper S Base        2007  213000       Gasoline   \n",
       "1   1        Lincoln              LS V8        2002  143250       Gasoline   \n",
       "2   2      Chevrolet  Silverado 2500 LT        2002  136731  E85 Flex Fuel   \n",
       "3   3        Genesis   G90 5.0 Ultimate        2017   19500       Gasoline   \n",
       "4   4  Mercedes-Benz        Metris Base        2021    7388       Gasoline   \n",
       "\n",
       "                                              engine  \\\n",
       "0       172.0HP 1.6L 4 Cylinder Engine Gasoline Fuel   \n",
       "1       252.0HP 3.9L 8 Cylinder Engine Gasoline Fuel   \n",
       "2  320.0HP 5.3L 8 Cylinder Engine Flex Fuel Capab...   \n",
       "3       420.0HP 5.0L 8 Cylinder Engine Gasoline Fuel   \n",
       "4       208.0HP 2.0L 4 Cylinder Engine Gasoline Fuel   \n",
       "\n",
       "                     transmission ext_col int_col  \\\n",
       "0                             A/T  Yellow    Gray   \n",
       "1                             A/T  Silver   Beige   \n",
       "2                             A/T    Blue    Gray   \n",
       "3  Transmission w/Dual Shift Mode   Black   Black   \n",
       "4                     7-Speed A/T   Black   Beige   \n",
       "\n",
       "                                 accident clean_title  price  \n",
       "0                           None reported         Yes   4200  \n",
       "1  At least 1 accident or damage reported         Yes   4999  \n",
       "2                           None reported         Yes  13900  \n",
       "3                           None reported         Yes  45000  \n",
       "4                           None reported         Yes  97500  "
      ]
     },
     "execution_count": 9,
     "metadata": {},
     "output_type": "execute_result"
    }
   ],
   "source": [
    "train_df.head(5)"
   ]
  },
  {
   "cell_type": "code",
   "execution_count": 10,
   "id": "6c38f392",
   "metadata": {},
   "outputs": [
    {
     "data": {
      "text/html": [
       "<div>\n",
       "<style scoped>\n",
       "    .dataframe tbody tr th:only-of-type {\n",
       "        vertical-align: middle;\n",
       "    }\n",
       "\n",
       "    .dataframe tbody tr th {\n",
       "        vertical-align: top;\n",
       "    }\n",
       "\n",
       "    .dataframe thead th {\n",
       "        text-align: right;\n",
       "    }\n",
       "</style>\n",
       "<table border=\"1\" class=\"dataframe\">\n",
       "  <thead>\n",
       "    <tr style=\"text-align: right;\">\n",
       "      <th></th>\n",
       "      <th>id</th>\n",
       "      <th>brand</th>\n",
       "      <th>model</th>\n",
       "      <th>model_year</th>\n",
       "      <th>milage</th>\n",
       "      <th>fuel_type</th>\n",
       "      <th>engine</th>\n",
       "      <th>transmission</th>\n",
       "      <th>ext_col</th>\n",
       "      <th>int_col</th>\n",
       "      <th>accident</th>\n",
       "      <th>clean_title</th>\n",
       "    </tr>\n",
       "  </thead>\n",
       "  <tbody>\n",
       "    <tr>\n",
       "      <th>0</th>\n",
       "      <td>188533</td>\n",
       "      <td>Land</td>\n",
       "      <td>Rover LR2 Base</td>\n",
       "      <td>2015</td>\n",
       "      <td>98000</td>\n",
       "      <td>Gasoline</td>\n",
       "      <td>240.0HP 2.0L 4 Cylinder Engine Gasoline Fuel</td>\n",
       "      <td>6-Speed A/T</td>\n",
       "      <td>White</td>\n",
       "      <td>Beige</td>\n",
       "      <td>None reported</td>\n",
       "      <td>Yes</td>\n",
       "    </tr>\n",
       "    <tr>\n",
       "      <th>1</th>\n",
       "      <td>188534</td>\n",
       "      <td>Land</td>\n",
       "      <td>Rover Defender SE</td>\n",
       "      <td>2020</td>\n",
       "      <td>9142</td>\n",
       "      <td>Hybrid</td>\n",
       "      <td>395.0HP 3.0L Straight 6 Cylinder Engine Gasoli...</td>\n",
       "      <td>8-Speed A/T</td>\n",
       "      <td>Silver</td>\n",
       "      <td>Black</td>\n",
       "      <td>None reported</td>\n",
       "      <td>Yes</td>\n",
       "    </tr>\n",
       "    <tr>\n",
       "      <th>2</th>\n",
       "      <td>188535</td>\n",
       "      <td>Ford</td>\n",
       "      <td>Expedition Limited</td>\n",
       "      <td>2022</td>\n",
       "      <td>28121</td>\n",
       "      <td>Gasoline</td>\n",
       "      <td>3.5L V6 24V PDI DOHC Twin Turbo</td>\n",
       "      <td>10-Speed Automatic</td>\n",
       "      <td>White</td>\n",
       "      <td>Ebony</td>\n",
       "      <td>None reported</td>\n",
       "      <td>NaN</td>\n",
       "    </tr>\n",
       "    <tr>\n",
       "      <th>3</th>\n",
       "      <td>188536</td>\n",
       "      <td>Audi</td>\n",
       "      <td>A6 2.0T Sport</td>\n",
       "      <td>2016</td>\n",
       "      <td>61258</td>\n",
       "      <td>Gasoline</td>\n",
       "      <td>2.0 Liter TFSI</td>\n",
       "      <td>Automatic</td>\n",
       "      <td>Silician Yellow</td>\n",
       "      <td>Black</td>\n",
       "      <td>None reported</td>\n",
       "      <td>NaN</td>\n",
       "    </tr>\n",
       "    <tr>\n",
       "      <th>4</th>\n",
       "      <td>188537</td>\n",
       "      <td>Audi</td>\n",
       "      <td>A6 2.0T Premium Plus</td>\n",
       "      <td>2018</td>\n",
       "      <td>59000</td>\n",
       "      <td>Gasoline</td>\n",
       "      <td>252.0HP 2.0L 4 Cylinder Engine Gasoline Fuel</td>\n",
       "      <td>A/T</td>\n",
       "      <td>Gray</td>\n",
       "      <td>Black</td>\n",
       "      <td>None reported</td>\n",
       "      <td>Yes</td>\n",
       "    </tr>\n",
       "  </tbody>\n",
       "</table>\n",
       "</div>"
      ],
      "text/plain": [
       "       id brand                 model  model_year  milage fuel_type  \\\n",
       "0  188533  Land        Rover LR2 Base        2015   98000  Gasoline   \n",
       "1  188534  Land     Rover Defender SE        2020    9142    Hybrid   \n",
       "2  188535  Ford    Expedition Limited        2022   28121  Gasoline   \n",
       "3  188536  Audi         A6 2.0T Sport        2016   61258  Gasoline   \n",
       "4  188537  Audi  A6 2.0T Premium Plus        2018   59000  Gasoline   \n",
       "\n",
       "                                              engine        transmission  \\\n",
       "0       240.0HP 2.0L 4 Cylinder Engine Gasoline Fuel         6-Speed A/T   \n",
       "1  395.0HP 3.0L Straight 6 Cylinder Engine Gasoli...         8-Speed A/T   \n",
       "2                    3.5L V6 24V PDI DOHC Twin Turbo  10-Speed Automatic   \n",
       "3                                     2.0 Liter TFSI           Automatic   \n",
       "4       252.0HP 2.0L 4 Cylinder Engine Gasoline Fuel                 A/T   \n",
       "\n",
       "           ext_col int_col       accident clean_title  \n",
       "0            White   Beige  None reported         Yes  \n",
       "1           Silver   Black  None reported         Yes  \n",
       "2            White   Ebony  None reported         NaN  \n",
       "3  Silician Yellow   Black  None reported         NaN  \n",
       "4             Gray   Black  None reported         Yes  "
      ]
     },
     "execution_count": 10,
     "metadata": {},
     "output_type": "execute_result"
    }
   ],
   "source": [
    "test_df.head(5)"
   ]
  },
  {
   "cell_type": "code",
   "execution_count": 11,
   "id": "65102a50",
   "metadata": {},
   "outputs": [
    {
     "name": "stdout",
     "output_type": "stream",
     "text": [
      "<class 'pandas.core.frame.DataFrame'>\n",
      "RangeIndex: 125690 entries, 0 to 125689\n",
      "Data columns (total 12 columns):\n",
      " #   Column        Non-Null Count   Dtype \n",
      "---  ------        --------------   ----- \n",
      " 0   id            125690 non-null  int64 \n",
      " 1   brand         125690 non-null  object\n",
      " 2   model         125690 non-null  object\n",
      " 3   model_year    125690 non-null  int64 \n",
      " 4   milage        125690 non-null  int64 \n",
      " 5   fuel_type     122307 non-null  object\n",
      " 6   engine        125690 non-null  object\n",
      " 7   transmission  125690 non-null  object\n",
      " 8   ext_col       125690 non-null  object\n",
      " 9   int_col       125690 non-null  object\n",
      " 10  accident      124058 non-null  object\n",
      " 11  clean_title   111451 non-null  object\n",
      "dtypes: int64(3), object(9)\n",
      "memory usage: 11.5+ MB\n"
     ]
    }
   ],
   "source": [
    "test_df.info()"
   ]
  },
  {
   "cell_type": "markdown",
   "id": "b0a68e60",
   "metadata": {},
   "source": [
    "### 2 - Transformación de Datos <a name=\"transformaciondedatos\"></a>"
   ]
  },
  {
   "cell_type": "code",
   "execution_count": 12,
   "id": "199fa809",
   "metadata": {
    "scrolled": false
   },
   "outputs": [],
   "source": [
    "object_cols = train_df.select_dtypes(include=['object']).columns\n",
    "\n",
    "label_encoders = {}\n",
    "\n",
    "for col in object_cols:\n",
    "    le = LabelEncoder()\n",
    "    train_df[col + '_encoded'] = le.fit_transform(train_df[col].astype(str))\n",
    "    label_encoders[col] = le  "
   ]
  },
  {
   "cell_type": "code",
   "execution_count": 13,
   "id": "7484aba2",
   "metadata": {},
   "outputs": [],
   "source": [
    "object_cols = test_df.select_dtypes(include=['object']).columns\n",
    "\n",
    "label_encoders = {}\n",
    "\n",
    "for col in object_cols:\n",
    "    le = LabelEncoder()\n",
    "\n",
    "    test_df[col + '_encoded'] = le.fit_transform(test_df[col].astype(str))\n",
    "    label_encoders[col] = le "
   ]
  },
  {
   "cell_type": "code",
   "execution_count": 14,
   "id": "f4887736",
   "metadata": {},
   "outputs": [
    {
     "data": {
      "text/html": [
       "<div>\n",
       "<style scoped>\n",
       "    .dataframe tbody tr th:only-of-type {\n",
       "        vertical-align: middle;\n",
       "    }\n",
       "\n",
       "    .dataframe tbody tr th {\n",
       "        vertical-align: top;\n",
       "    }\n",
       "\n",
       "    .dataframe thead th {\n",
       "        text-align: right;\n",
       "    }\n",
       "</style>\n",
       "<table border=\"1\" class=\"dataframe\">\n",
       "  <thead>\n",
       "    <tr style=\"text-align: right;\">\n",
       "      <th></th>\n",
       "      <th>Cantidad de Nulos</th>\n",
       "      <th>Porcentaje de Nulos (%)</th>\n",
       "    </tr>\n",
       "  </thead>\n",
       "  <tbody>\n",
       "    <tr>\n",
       "      <th>id</th>\n",
       "      <td>0</td>\n",
       "      <td>0.000000</td>\n",
       "    </tr>\n",
       "    <tr>\n",
       "      <th>brand</th>\n",
       "      <td>0</td>\n",
       "      <td>0.000000</td>\n",
       "    </tr>\n",
       "    <tr>\n",
       "      <th>model</th>\n",
       "      <td>0</td>\n",
       "      <td>0.000000</td>\n",
       "    </tr>\n",
       "    <tr>\n",
       "      <th>model_year</th>\n",
       "      <td>0</td>\n",
       "      <td>0.000000</td>\n",
       "    </tr>\n",
       "    <tr>\n",
       "      <th>milage</th>\n",
       "      <td>0</td>\n",
       "      <td>0.000000</td>\n",
       "    </tr>\n",
       "    <tr>\n",
       "      <th>fuel_type</th>\n",
       "      <td>5083</td>\n",
       "      <td>2.696080</td>\n",
       "    </tr>\n",
       "    <tr>\n",
       "      <th>engine</th>\n",
       "      <td>0</td>\n",
       "      <td>0.000000</td>\n",
       "    </tr>\n",
       "    <tr>\n",
       "      <th>transmission</th>\n",
       "      <td>0</td>\n",
       "      <td>0.000000</td>\n",
       "    </tr>\n",
       "    <tr>\n",
       "      <th>ext_col</th>\n",
       "      <td>0</td>\n",
       "      <td>0.000000</td>\n",
       "    </tr>\n",
       "    <tr>\n",
       "      <th>int_col</th>\n",
       "      <td>0</td>\n",
       "      <td>0.000000</td>\n",
       "    </tr>\n",
       "    <tr>\n",
       "      <th>accident</th>\n",
       "      <td>2452</td>\n",
       "      <td>1.300568</td>\n",
       "    </tr>\n",
       "    <tr>\n",
       "      <th>clean_title</th>\n",
       "      <td>21419</td>\n",
       "      <td>11.360876</td>\n",
       "    </tr>\n",
       "    <tr>\n",
       "      <th>price</th>\n",
       "      <td>0</td>\n",
       "      <td>0.000000</td>\n",
       "    </tr>\n",
       "    <tr>\n",
       "      <th>brand_encoded</th>\n",
       "      <td>0</td>\n",
       "      <td>0.000000</td>\n",
       "    </tr>\n",
       "    <tr>\n",
       "      <th>model_encoded</th>\n",
       "      <td>0</td>\n",
       "      <td>0.000000</td>\n",
       "    </tr>\n",
       "    <tr>\n",
       "      <th>fuel_type_encoded</th>\n",
       "      <td>0</td>\n",
       "      <td>0.000000</td>\n",
       "    </tr>\n",
       "    <tr>\n",
       "      <th>engine_encoded</th>\n",
       "      <td>0</td>\n",
       "      <td>0.000000</td>\n",
       "    </tr>\n",
       "    <tr>\n",
       "      <th>transmission_encoded</th>\n",
       "      <td>0</td>\n",
       "      <td>0.000000</td>\n",
       "    </tr>\n",
       "    <tr>\n",
       "      <th>ext_col_encoded</th>\n",
       "      <td>0</td>\n",
       "      <td>0.000000</td>\n",
       "    </tr>\n",
       "    <tr>\n",
       "      <th>int_col_encoded</th>\n",
       "      <td>0</td>\n",
       "      <td>0.000000</td>\n",
       "    </tr>\n",
       "    <tr>\n",
       "      <th>accident_encoded</th>\n",
       "      <td>0</td>\n",
       "      <td>0.000000</td>\n",
       "    </tr>\n",
       "    <tr>\n",
       "      <th>clean_title_encoded</th>\n",
       "      <td>0</td>\n",
       "      <td>0.000000</td>\n",
       "    </tr>\n",
       "  </tbody>\n",
       "</table>\n",
       "</div>"
      ],
      "text/plain": [
       "                      Cantidad de Nulos  Porcentaje de Nulos (%)\n",
       "id                                    0                 0.000000\n",
       "brand                                 0                 0.000000\n",
       "model                                 0                 0.000000\n",
       "model_year                            0                 0.000000\n",
       "milage                                0                 0.000000\n",
       "fuel_type                          5083                 2.696080\n",
       "engine                                0                 0.000000\n",
       "transmission                          0                 0.000000\n",
       "ext_col                               0                 0.000000\n",
       "int_col                               0                 0.000000\n",
       "accident                           2452                 1.300568\n",
       "clean_title                       21419                11.360876\n",
       "price                                 0                 0.000000\n",
       "brand_encoded                         0                 0.000000\n",
       "model_encoded                         0                 0.000000\n",
       "fuel_type_encoded                     0                 0.000000\n",
       "engine_encoded                        0                 0.000000\n",
       "transmission_encoded                  0                 0.000000\n",
       "ext_col_encoded                       0                 0.000000\n",
       "int_col_encoded                       0                 0.000000\n",
       "accident_encoded                      0                 0.000000\n",
       "clean_title_encoded                   0                 0.000000"
      ]
     },
     "execution_count": 14,
     "metadata": {},
     "output_type": "execute_result"
    }
   ],
   "source": [
    "contar_valores_nulos_con_porcentaje(train_df)"
   ]
  },
  {
   "cell_type": "code",
   "execution_count": 15,
   "id": "c265c484",
   "metadata": {},
   "outputs": [
    {
     "data": {
      "text/plain": [
       "clean_title\n",
       "Yes    167114\n",
       "Name: count, dtype: int64"
      ]
     },
     "execution_count": 15,
     "metadata": {},
     "output_type": "execute_result"
    }
   ],
   "source": [
    "train_df['clean_title'].value_counts()"
   ]
  },
  {
   "cell_type": "code",
   "execution_count": 16,
   "id": "5bc68b89",
   "metadata": {},
   "outputs": [],
   "source": [
    "# Encontrar el valor más frecuente en la columna 'clean_title'\n",
    "most_frequent = train_df['clean_title'].value_counts().idxmax()\n",
    "\n",
    "# Reemplazar los valores nulos (NaN) con el valor más frecuente\n",
    "train_df['clean_title'] = train_df['clean_title'].fillna(most_frequent)\n"
   ]
  },
  {
   "cell_type": "code",
   "execution_count": 17,
   "id": "1c174e83",
   "metadata": {},
   "outputs": [
    {
     "data": {
      "text/plain": [
       "accident\n",
       "None reported                             144514\n",
       "At least 1 accident or damage reported     41567\n",
       "Name: count, dtype: int64"
      ]
     },
     "execution_count": 17,
     "metadata": {},
     "output_type": "execute_result"
    }
   ],
   "source": [
    "train_df['accident'].value_counts()"
   ]
  },
  {
   "cell_type": "code",
   "execution_count": 18,
   "id": "ed70935d",
   "metadata": {},
   "outputs": [],
   "source": [
    "# Encontrar el valor más frecuente en la columna 'clean_title'\n",
    "most_frequent = train_df['accident'].value_counts().idxmax()\n",
    "\n",
    "# Reemplazar los valores nulos (NaN) con el valor más frecuente\n",
    "train_df['accident'] = train_df['accident'].fillna(most_frequent)\n"
   ]
  },
  {
   "cell_type": "code",
   "execution_count": 19,
   "id": "cc487405",
   "metadata": {},
   "outputs": [
    {
     "data": {
      "text/plain": [
       "fuel_type\n",
       "Gasoline          165940\n",
       "Hybrid              6832\n",
       "E85 Flex Fuel       5406\n",
       "Diesel              3955\n",
       "–                    781\n",
       "Plug-In Hybrid       521\n",
       "not supported         15\n",
       "Name: count, dtype: int64"
      ]
     },
     "execution_count": 19,
     "metadata": {},
     "output_type": "execute_result"
    }
   ],
   "source": [
    "train_df['fuel_type'].value_counts()"
   ]
  },
  {
   "cell_type": "code",
   "execution_count": 20,
   "id": "2a6bd671",
   "metadata": {},
   "outputs": [],
   "source": [
    "# Encontrar el valor más frecuente en la columna 'clean_title'\n",
    "most_frequent = train_df['fuel_type'].value_counts().idxmax()\n",
    "\n",
    "# Reemplazar los valores nulos (NaN) con el valor más frecuente\n",
    "train_df['fuel_type'] = train_df['fuel_type'].fillna(most_frequent)\n"
   ]
  },
  {
   "cell_type": "code",
   "execution_count": 21,
   "id": "73a50e53",
   "metadata": {},
   "outputs": [
    {
     "data": {
      "text/html": [
       "<div>\n",
       "<style scoped>\n",
       "    .dataframe tbody tr th:only-of-type {\n",
       "        vertical-align: middle;\n",
       "    }\n",
       "\n",
       "    .dataframe tbody tr th {\n",
       "        vertical-align: top;\n",
       "    }\n",
       "\n",
       "    .dataframe thead th {\n",
       "        text-align: right;\n",
       "    }\n",
       "</style>\n",
       "<table border=\"1\" class=\"dataframe\">\n",
       "  <thead>\n",
       "    <tr style=\"text-align: right;\">\n",
       "      <th></th>\n",
       "      <th>Cantidad de Nulos</th>\n",
       "      <th>Porcentaje de Nulos (%)</th>\n",
       "    </tr>\n",
       "  </thead>\n",
       "  <tbody>\n",
       "    <tr>\n",
       "      <th>id</th>\n",
       "      <td>0</td>\n",
       "      <td>0.000000</td>\n",
       "    </tr>\n",
       "    <tr>\n",
       "      <th>brand</th>\n",
       "      <td>0</td>\n",
       "      <td>0.000000</td>\n",
       "    </tr>\n",
       "    <tr>\n",
       "      <th>model</th>\n",
       "      <td>0</td>\n",
       "      <td>0.000000</td>\n",
       "    </tr>\n",
       "    <tr>\n",
       "      <th>model_year</th>\n",
       "      <td>0</td>\n",
       "      <td>0.000000</td>\n",
       "    </tr>\n",
       "    <tr>\n",
       "      <th>milage</th>\n",
       "      <td>0</td>\n",
       "      <td>0.000000</td>\n",
       "    </tr>\n",
       "    <tr>\n",
       "      <th>fuel_type</th>\n",
       "      <td>3383</td>\n",
       "      <td>2.691543</td>\n",
       "    </tr>\n",
       "    <tr>\n",
       "      <th>engine</th>\n",
       "      <td>0</td>\n",
       "      <td>0.000000</td>\n",
       "    </tr>\n",
       "    <tr>\n",
       "      <th>transmission</th>\n",
       "      <td>0</td>\n",
       "      <td>0.000000</td>\n",
       "    </tr>\n",
       "    <tr>\n",
       "      <th>ext_col</th>\n",
       "      <td>0</td>\n",
       "      <td>0.000000</td>\n",
       "    </tr>\n",
       "    <tr>\n",
       "      <th>int_col</th>\n",
       "      <td>0</td>\n",
       "      <td>0.000000</td>\n",
       "    </tr>\n",
       "    <tr>\n",
       "      <th>accident</th>\n",
       "      <td>1632</td>\n",
       "      <td>1.298433</td>\n",
       "    </tr>\n",
       "    <tr>\n",
       "      <th>clean_title</th>\n",
       "      <td>14239</td>\n",
       "      <td>11.328666</td>\n",
       "    </tr>\n",
       "    <tr>\n",
       "      <th>brand_encoded</th>\n",
       "      <td>0</td>\n",
       "      <td>0.000000</td>\n",
       "    </tr>\n",
       "    <tr>\n",
       "      <th>model_encoded</th>\n",
       "      <td>0</td>\n",
       "      <td>0.000000</td>\n",
       "    </tr>\n",
       "    <tr>\n",
       "      <th>fuel_type_encoded</th>\n",
       "      <td>0</td>\n",
       "      <td>0.000000</td>\n",
       "    </tr>\n",
       "    <tr>\n",
       "      <th>engine_encoded</th>\n",
       "      <td>0</td>\n",
       "      <td>0.000000</td>\n",
       "    </tr>\n",
       "    <tr>\n",
       "      <th>transmission_encoded</th>\n",
       "      <td>0</td>\n",
       "      <td>0.000000</td>\n",
       "    </tr>\n",
       "    <tr>\n",
       "      <th>ext_col_encoded</th>\n",
       "      <td>0</td>\n",
       "      <td>0.000000</td>\n",
       "    </tr>\n",
       "    <tr>\n",
       "      <th>int_col_encoded</th>\n",
       "      <td>0</td>\n",
       "      <td>0.000000</td>\n",
       "    </tr>\n",
       "    <tr>\n",
       "      <th>accident_encoded</th>\n",
       "      <td>0</td>\n",
       "      <td>0.000000</td>\n",
       "    </tr>\n",
       "    <tr>\n",
       "      <th>clean_title_encoded</th>\n",
       "      <td>0</td>\n",
       "      <td>0.000000</td>\n",
       "    </tr>\n",
       "  </tbody>\n",
       "</table>\n",
       "</div>"
      ],
      "text/plain": [
       "                      Cantidad de Nulos  Porcentaje de Nulos (%)\n",
       "id                                    0                 0.000000\n",
       "brand                                 0                 0.000000\n",
       "model                                 0                 0.000000\n",
       "model_year                            0                 0.000000\n",
       "milage                                0                 0.000000\n",
       "fuel_type                          3383                 2.691543\n",
       "engine                                0                 0.000000\n",
       "transmission                          0                 0.000000\n",
       "ext_col                               0                 0.000000\n",
       "int_col                               0                 0.000000\n",
       "accident                           1632                 1.298433\n",
       "clean_title                       14239                11.328666\n",
       "brand_encoded                         0                 0.000000\n",
       "model_encoded                         0                 0.000000\n",
       "fuel_type_encoded                     0                 0.000000\n",
       "engine_encoded                        0                 0.000000\n",
       "transmission_encoded                  0                 0.000000\n",
       "ext_col_encoded                       0                 0.000000\n",
       "int_col_encoded                       0                 0.000000\n",
       "accident_encoded                      0                 0.000000\n",
       "clean_title_encoded                   0                 0.000000"
      ]
     },
     "execution_count": 21,
     "metadata": {},
     "output_type": "execute_result"
    }
   ],
   "source": [
    "contar_valores_nulos_con_porcentaje(test_df)"
   ]
  },
  {
   "cell_type": "code",
   "execution_count": 22,
   "id": "747f44bb",
   "metadata": {},
   "outputs": [
    {
     "data": {
      "text/plain": [
       "clean_title\n",
       "Yes    111451\n",
       "Name: count, dtype: int64"
      ]
     },
     "execution_count": 22,
     "metadata": {},
     "output_type": "execute_result"
    }
   ],
   "source": [
    "test_df['clean_title'].value_counts()"
   ]
  },
  {
   "cell_type": "code",
   "execution_count": 23,
   "id": "9a8cc7ba",
   "metadata": {},
   "outputs": [],
   "source": [
    "# Encontrar el valor más frecuente en la columna 'clean_title'\n",
    "most_frequent = test_df['clean_title'].value_counts().idxmax()\n",
    "\n",
    "# Reemplazar los valores nulos (NaN) con el valor más frecuente\n",
    "test_df['clean_title'] = test_df['clean_title'].fillna(most_frequent)\n"
   ]
  },
  {
   "cell_type": "code",
   "execution_count": 24,
   "id": "ddb5898a",
   "metadata": {},
   "outputs": [
    {
     "data": {
      "text/plain": [
       "accident\n",
       "None reported                             96263\n",
       "At least 1 accident or damage reported    27795\n",
       "Name: count, dtype: int64"
      ]
     },
     "execution_count": 24,
     "metadata": {},
     "output_type": "execute_result"
    }
   ],
   "source": [
    "test_df['accident'].value_counts()"
   ]
  },
  {
   "cell_type": "code",
   "execution_count": 25,
   "id": "a6c05c43",
   "metadata": {},
   "outputs": [],
   "source": [
    "# Encontrar el valor más frecuente en la columna 'clean_title'\n",
    "most_frequent = test_df['accident'].value_counts().idxmax()\n",
    "\n",
    "# Reemplazar los valores nulos (NaN) con el valor más frecuente\n",
    "test_df['accident'] = test_df['accident'].fillna(most_frequent)\n"
   ]
  },
  {
   "cell_type": "code",
   "execution_count": 26,
   "id": "b162849b",
   "metadata": {},
   "outputs": [
    {
     "data": {
      "text/plain": [
       "fuel_type\n",
       "Gasoline          110533\n",
       "Hybrid              4676\n",
       "E85 Flex Fuel       3523\n",
       "Diesel              2686\n",
       "–                    538\n",
       "Plug-In Hybrid       337\n",
       "not supported         14\n",
       "Name: count, dtype: int64"
      ]
     },
     "execution_count": 26,
     "metadata": {},
     "output_type": "execute_result"
    }
   ],
   "source": [
    "test_df['fuel_type'].value_counts()"
   ]
  },
  {
   "cell_type": "code",
   "execution_count": 27,
   "id": "3fe828cd",
   "metadata": {},
   "outputs": [],
   "source": [
    "# Encontrar el valor más frecuente en la columna 'clean_title'\n",
    "most_frequent = test_df['fuel_type'].value_counts().idxmax()\n",
    "\n",
    "# Reemplazar los valores nulos (NaN) con el valor más frecuente\n",
    "test_df['fuel_type'] = test_df['fuel_type'].fillna(most_frequent)\n"
   ]
  },
  {
   "cell_type": "code",
   "execution_count": 28,
   "id": "aef49edc",
   "metadata": {},
   "outputs": [],
   "source": [
    "train_df['price'] = pd.to_numeric(train_df['price'], errors='coerce')\n"
   ]
  },
  {
   "cell_type": "markdown",
   "id": "1276ce17",
   "metadata": {},
   "source": [
    "### 3 - Modelado - XGBoost <a name=\"xgboost\"></a>"
   ]
  },
  {
   "cell_type": "code",
   "execution_count": 29,
   "id": "a002d192",
   "metadata": {},
   "outputs": [],
   "source": [
    "X = train_df[['brand_encoded', 'model_encoded', 'model_year', 'milage' ,'fuel_type_encoded', \n",
    "              'engine_encoded', 'transmission_encoded', 'ext_col_encoded', 'int_col_encoded', \n",
    "              'accident_encoded', 'clean_title_encoded']]\n",
    "y = train_df['price']\n",
    "\n",
    "X_train, X_test, y_train, y_test = train_test_split(X, y, test_size=0.2, random_state=42)"
   ]
  },
  {
   "cell_type": "code",
   "execution_count": 30,
   "id": "b4a0e81c",
   "metadata": {},
   "outputs": [],
   "source": [
    "test_df = test_df[['brand_encoded', 'model_encoded', 'model_year', 'milage' ,'fuel_type_encoded', \n",
    "              'engine_encoded', 'transmission_encoded', 'ext_col_encoded', 'int_col_encoded', \n",
    "              'accident_encoded', 'clean_title_encoded']]"
   ]
  },
  {
   "cell_type": "markdown",
   "id": "a786f259",
   "metadata": {},
   "source": [
    "#### Optuna XGBboost"
   ]
  },
  {
   "cell_type": "code",
   "execution_count": 31,
   "id": "2f1318c8",
   "metadata": {},
   "outputs": [],
   "source": [
    "def objective_xgboost(trial):\n",
    "\n",
    "    xgboost_params = {\n",
    "        'n_estimators': trial.suggest_int('n_estimators', 100, 1000),\n",
    "        'max_depth': trial.suggest_int('max_depth', 3, 16),\n",
    "        'learning_rate': trial.suggest_loguniform('learning_rate', 1e-4, 1e-1),\n",
    "        'subsample': trial.suggest_float('subsample', 0.4, 1.0),\n",
    "        'colsample_bytree': trial.suggest_float('colsample_bytree', 0.4, 1.0),\n",
    "        'min_child_weight': trial.suggest_int('min_child_weight', 1, 100),\n",
    "        'gamma': trial.suggest_float('gamma', 0.0, 10.0),\n",
    "        'reg_alpha': trial.suggest_loguniform('reg_alpha', 1e-8, 10.0),  \n",
    "        'reg_lambda': trial.suggest_loguniform('reg_lambda', 1e-8, 10.0),  \n",
    "    }\n",
    "\n",
    "    model_xgboost = XGBRegressor(\n",
    "        **xgboost_params,\n",
    "        random_state=42,\n",
    "        objective=\"reg:squarederror\" \n",
    "    )\n",
    "\n",
    "    model_xgboost.fit(X_train, y_train, eval_set=[(X_test, y_test)], verbose=False)\n",
    "\n",
    "    y_pred = model_xgboost.predict(X_test)\n",
    "\n",
    "    return mean_squared_error(y_test, y_pred, squared=False)\n"
   ]
  },
  {
   "cell_type": "code",
   "execution_count": 32,
   "id": "b4a68012",
   "metadata": {},
   "outputs": [
    {
     "name": "stderr",
     "output_type": "stream",
     "text": [
      "[I 2024-09-29 17:29:45,500] A new study created in memory with name: XGBoost_used_car\n"
     ]
    },
    {
     "data": {
      "application/vnd.jupyter.widget-view+json": {
       "model_id": "639b62ad83dc418aafbc10542c753f2a",
       "version_major": 2,
       "version_minor": 0
      },
      "text/plain": [
       "  0%|          | 0/400 [00:00<?, ?it/s]"
      ]
     },
     "metadata": {},
     "output_type": "display_data"
    }
   ],
   "source": [
    "study_xgboost = optuna.create_study(\n",
    "    study_name=\"XGBoost_used_car\", \n",
    "    sampler=TPESampler(), \n",
    "    direction=\"minimize\"\n",
    ")\n",
    "\n",
    "optuna.logging.set_verbosity(optuna.logging.WARNING)\n",
    "\n",
    "study_xgboost.optimize(objective_xgboost, n_trials=400, show_progress_bar=True)\n"
   ]
  },
  {
   "cell_type": "code",
   "execution_count": 33,
   "id": "14542329",
   "metadata": {},
   "outputs": [
    {
     "name": "stdout",
     "output_type": "stream",
     "text": [
      "Best trial: FrozenTrial(number=233, state=TrialState.COMPLETE, values=[67706.12921503252], datetime_start=datetime.datetime(2024, 9, 29, 18, 29, 21, 360167), datetime_complete=datetime.datetime(2024, 9, 29, 18, 29, 35, 986520), params={'n_estimators': 700, 'max_depth': 7, 'learning_rate': 0.012525991125616226, 'subsample': 0.8196358516487999, 'colsample_bytree': 0.5147240850455552, 'min_child_weight': 44, 'gamma': 2.981639862905725, 'reg_alpha': 0.5212122480997886, 'reg_lambda': 0.1289786873295609}, user_attrs={}, system_attrs={}, intermediate_values={}, distributions={'n_estimators': IntDistribution(high=1000, log=False, low=100, step=1), 'max_depth': IntDistribution(high=16, log=False, low=3, step=1), 'learning_rate': FloatDistribution(high=0.1, log=True, low=0.0001, step=None), 'subsample': FloatDistribution(high=1.0, log=False, low=0.4, step=None), 'colsample_bytree': FloatDistribution(high=1.0, log=False, low=0.4, step=None), 'min_child_weight': IntDistribution(high=100, log=False, low=1, step=1), 'gamma': FloatDistribution(high=10.0, log=False, low=0.0, step=None), 'reg_alpha': FloatDistribution(high=10.0, log=True, low=1e-08, step=None), 'reg_lambda': FloatDistribution(high=10.0, log=True, low=1e-08, step=None)}, trial_id=233, value=None)\n"
     ]
    }
   ],
   "source": [
    "print(\"Best trial:\", study_xgboost.best_trial)"
   ]
  },
  {
   "cell_type": "code",
   "execution_count": 34,
   "id": "754d7d25",
   "metadata": {},
   "outputs": [
    {
     "name": "stdout",
     "output_type": "stream",
     "text": [
      "Best parameters: {'n_estimators': 700, 'max_depth': 7, 'learning_rate': 0.012525991125616226, 'subsample': 0.8196358516487999, 'colsample_bytree': 0.5147240850455552, 'min_child_weight': 44, 'gamma': 2.981639862905725, 'reg_alpha': 0.5212122480997886, 'reg_lambda': 0.1289786873295609}\n"
     ]
    }
   ],
   "source": [
    "print(\"Best parameters:\", study_xgboost.best_params)"
   ]
  },
  {
   "cell_type": "code",
   "execution_count": 35,
   "id": "8809596f",
   "metadata": {},
   "outputs": [
    {
     "name": "stdout",
     "output_type": "stream",
     "text": [
      "Root Mean squared error:  67752.77934332646\n"
     ]
    }
   ],
   "source": [
    "xgb_final = XGBRegressor(**study_xgboost.best_params, verbose=False)\n",
    "xgb_final.fit(X_train, y_train)\n",
    "\n",
    "y_pred_test = xgb_final.predict(X_test)\n",
    "print(\"Root Mean squared error: \", mean_squared_error(y_test, y_pred_test, squared = False))"
   ]
  },
  {
   "cell_type": "code",
   "execution_count": 36,
   "id": "dd3e12b0",
   "metadata": {},
   "outputs": [],
   "source": [
    "y_pred_test = xgb_final.predict(test_df)"
   ]
  },
  {
   "cell_type": "code",
   "execution_count": 37,
   "id": "85155c16",
   "metadata": {},
   "outputs": [],
   "source": [
    "sample_submission[\"price\"] =  y_pred_test\n",
    "sample_submission.to_csv('submission_xgboost.csv',index=False)"
   ]
  },
  {
   "cell_type": "code",
   "execution_count": 38,
   "id": "14e7bde3",
   "metadata": {},
   "outputs": [
    {
     "data": {
      "text/plain": [
       "['xgb_final_model.pkl']"
      ]
     },
     "execution_count": 38,
     "metadata": {},
     "output_type": "execute_result"
    }
   ],
   "source": [
    "joblib.dump(xgb_final, 'xgb_final_model.pkl')"
   ]
  }
 ],
 "metadata": {
  "kernelspec": {
   "display_name": "conda_python3",
   "language": "python",
   "name": "conda_python3"
  },
  "language_info": {
   "codemirror_mode": {
    "name": "ipython",
    "version": 3
   },
   "file_extension": ".py",
   "mimetype": "text/x-python",
   "name": "python",
   "nbconvert_exporter": "python",
   "pygments_lexer": "ipython3",
   "version": "3.10.14"
  }
 },
 "nbformat": 4,
 "nbformat_minor": 5
}
